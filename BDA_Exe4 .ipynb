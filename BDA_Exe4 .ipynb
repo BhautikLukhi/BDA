{
  "cells": [
    {
      "cell_type": "markdown",
      "source": [
        "# **2.Loading a real graph**"
      ],
      "metadata": {
        "id": "vNxLC9QP8te0"
      },
      "id": "vNxLC9QP8te0"
    },
    {
      "cell_type": "markdown",
      "source": [
        "(a) Create a transition matrix given the links in the datasets (ignore\n",
        "the value column for this)."
      ],
      "metadata": {
        "id": "V2Pbkc8d84HR"
      },
      "id": "V2Pbkc8d84HR"
    },
    {
      "cell_type": "code",
      "execution_count": 21,
      "id": "5952770a",
      "metadata": {
        "id": "5952770a"
      },
      "outputs": [],
      "source": [
        "import pandas as pd\n",
        "import networkx as nx\n",
        "import numpy as np\n",
        "\n"
      ]
    },
    {
      "cell_type": "code",
      "source": [
        "from google.colab import files\n",
        " \n",
        "uploaded = files.upload()\n",
        "\n",
        "#please choose both given files(stack_network_links.csv and stack_network_nodes.csv)after executing this block from your local drive"
      ],
      "metadata": {
        "colab": {
          "base_uri": "https://localhost:8080/",
          "height": 108
        },
        "id": "mGUoapDz8htL",
        "outputId": "da84904b-e4b5-42ae-8a24-88eeeeeefe70"
      },
      "id": "mGUoapDz8htL",
      "execution_count": 22,
      "outputs": [
        {
          "output_type": "display_data",
          "data": {
            "text/plain": [
              "<IPython.core.display.HTML object>"
            ],
            "text/html": [
              "\n",
              "     <input type=\"file\" id=\"files-788dff38-a716-4a41-b89e-7af66b00c803\" name=\"files[]\" multiple disabled\n",
              "        style=\"border:none\" />\n",
              "     <output id=\"result-788dff38-a716-4a41-b89e-7af66b00c803\">\n",
              "      Upload widget is only available when the cell has been executed in the\n",
              "      current browser session. Please rerun this cell to enable.\n",
              "      </output>\n",
              "      <script>// Copyright 2017 Google LLC\n",
              "//\n",
              "// Licensed under the Apache License, Version 2.0 (the \"License\");\n",
              "// you may not use this file except in compliance with the License.\n",
              "// You may obtain a copy of the License at\n",
              "//\n",
              "//      http://www.apache.org/licenses/LICENSE-2.0\n",
              "//\n",
              "// Unless required by applicable law or agreed to in writing, software\n",
              "// distributed under the License is distributed on an \"AS IS\" BASIS,\n",
              "// WITHOUT WARRANTIES OR CONDITIONS OF ANY KIND, either express or implied.\n",
              "// See the License for the specific language governing permissions and\n",
              "// limitations under the License.\n",
              "\n",
              "/**\n",
              " * @fileoverview Helpers for google.colab Python module.\n",
              " */\n",
              "(function(scope) {\n",
              "function span(text, styleAttributes = {}) {\n",
              "  const element = document.createElement('span');\n",
              "  element.textContent = text;\n",
              "  for (const key of Object.keys(styleAttributes)) {\n",
              "    element.style[key] = styleAttributes[key];\n",
              "  }\n",
              "  return element;\n",
              "}\n",
              "\n",
              "// Max number of bytes which will be uploaded at a time.\n",
              "const MAX_PAYLOAD_SIZE = 100 * 1024;\n",
              "\n",
              "function _uploadFiles(inputId, outputId) {\n",
              "  const steps = uploadFilesStep(inputId, outputId);\n",
              "  const outputElement = document.getElementById(outputId);\n",
              "  // Cache steps on the outputElement to make it available for the next call\n",
              "  // to uploadFilesContinue from Python.\n",
              "  outputElement.steps = steps;\n",
              "\n",
              "  return _uploadFilesContinue(outputId);\n",
              "}\n",
              "\n",
              "// This is roughly an async generator (not supported in the browser yet),\n",
              "// where there are multiple asynchronous steps and the Python side is going\n",
              "// to poll for completion of each step.\n",
              "// This uses a Promise to block the python side on completion of each step,\n",
              "// then passes the result of the previous step as the input to the next step.\n",
              "function _uploadFilesContinue(outputId) {\n",
              "  const outputElement = document.getElementById(outputId);\n",
              "  const steps = outputElement.steps;\n",
              "\n",
              "  const next = steps.next(outputElement.lastPromiseValue);\n",
              "  return Promise.resolve(next.value.promise).then((value) => {\n",
              "    // Cache the last promise value to make it available to the next\n",
              "    // step of the generator.\n",
              "    outputElement.lastPromiseValue = value;\n",
              "    return next.value.response;\n",
              "  });\n",
              "}\n",
              "\n",
              "/**\n",
              " * Generator function which is called between each async step of the upload\n",
              " * process.\n",
              " * @param {string} inputId Element ID of the input file picker element.\n",
              " * @param {string} outputId Element ID of the output display.\n",
              " * @return {!Iterable<!Object>} Iterable of next steps.\n",
              " */\n",
              "function* uploadFilesStep(inputId, outputId) {\n",
              "  const inputElement = document.getElementById(inputId);\n",
              "  inputElement.disabled = false;\n",
              "\n",
              "  const outputElement = document.getElementById(outputId);\n",
              "  outputElement.innerHTML = '';\n",
              "\n",
              "  const pickedPromise = new Promise((resolve) => {\n",
              "    inputElement.addEventListener('change', (e) => {\n",
              "      resolve(e.target.files);\n",
              "    });\n",
              "  });\n",
              "\n",
              "  const cancel = document.createElement('button');\n",
              "  inputElement.parentElement.appendChild(cancel);\n",
              "  cancel.textContent = 'Cancel upload';\n",
              "  const cancelPromise = new Promise((resolve) => {\n",
              "    cancel.onclick = () => {\n",
              "      resolve(null);\n",
              "    };\n",
              "  });\n",
              "\n",
              "  // Wait for the user to pick the files.\n",
              "  const files = yield {\n",
              "    promise: Promise.race([pickedPromise, cancelPromise]),\n",
              "    response: {\n",
              "      action: 'starting',\n",
              "    }\n",
              "  };\n",
              "\n",
              "  cancel.remove();\n",
              "\n",
              "  // Disable the input element since further picks are not allowed.\n",
              "  inputElement.disabled = true;\n",
              "\n",
              "  if (!files) {\n",
              "    return {\n",
              "      response: {\n",
              "        action: 'complete',\n",
              "      }\n",
              "    };\n",
              "  }\n",
              "\n",
              "  for (const file of files) {\n",
              "    const li = document.createElement('li');\n",
              "    li.append(span(file.name, {fontWeight: 'bold'}));\n",
              "    li.append(span(\n",
              "        `(${file.type || 'n/a'}) - ${file.size} bytes, ` +\n",
              "        `last modified: ${\n",
              "            file.lastModifiedDate ? file.lastModifiedDate.toLocaleDateString() :\n",
              "                                    'n/a'} - `));\n",
              "    const percent = span('0% done');\n",
              "    li.appendChild(percent);\n",
              "\n",
              "    outputElement.appendChild(li);\n",
              "\n",
              "    const fileDataPromise = new Promise((resolve) => {\n",
              "      const reader = new FileReader();\n",
              "      reader.onload = (e) => {\n",
              "        resolve(e.target.result);\n",
              "      };\n",
              "      reader.readAsArrayBuffer(file);\n",
              "    });\n",
              "    // Wait for the data to be ready.\n",
              "    let fileData = yield {\n",
              "      promise: fileDataPromise,\n",
              "      response: {\n",
              "        action: 'continue',\n",
              "      }\n",
              "    };\n",
              "\n",
              "    // Use a chunked sending to avoid message size limits. See b/62115660.\n",
              "    let position = 0;\n",
              "    do {\n",
              "      const length = Math.min(fileData.byteLength - position, MAX_PAYLOAD_SIZE);\n",
              "      const chunk = new Uint8Array(fileData, position, length);\n",
              "      position += length;\n",
              "\n",
              "      const base64 = btoa(String.fromCharCode.apply(null, chunk));\n",
              "      yield {\n",
              "        response: {\n",
              "          action: 'append',\n",
              "          file: file.name,\n",
              "          data: base64,\n",
              "        },\n",
              "      };\n",
              "\n",
              "      let percentDone = fileData.byteLength === 0 ?\n",
              "          100 :\n",
              "          Math.round((position / fileData.byteLength) * 100);\n",
              "      percent.textContent = `${percentDone}% done`;\n",
              "\n",
              "    } while (position < fileData.byteLength);\n",
              "  }\n",
              "\n",
              "  // All done.\n",
              "  yield {\n",
              "    response: {\n",
              "      action: 'complete',\n",
              "    }\n",
              "  };\n",
              "}\n",
              "\n",
              "scope.google = scope.google || {};\n",
              "scope.google.colab = scope.google.colab || {};\n",
              "scope.google.colab._files = {\n",
              "  _uploadFiles,\n",
              "  _uploadFilesContinue,\n",
              "};\n",
              "})(self);\n",
              "</script> "
            ]
          },
          "metadata": {}
        },
        {
          "output_type": "stream",
          "name": "stdout",
          "text": [
            "Saving stack_network_links.csv to stack_network_links (1).csv\n",
            "Saving stack_network_nodes.csv to stack_network_nodes (1).csv\n"
          ]
        }
      ]
    },
    {
      "cell_type": "code",
      "execution_count": 23,
      "id": "f4d3a481",
      "metadata": {
        "id": "f4d3a481"
      },
      "outputs": [],
      "source": [
        "# Reading the nodes and links data from the Excel files using pandas\n",
        "df1 = pd.read_csv('stack_network_links.csv')\n",
        "df2 = pd.read_csv('stack_network_nodes.csv')"
      ]
    },
    {
      "cell_type": "code",
      "execution_count": 24,
      "id": "01395d9b",
      "metadata": {
        "scrolled": true,
        "id": "01395d9b"
      },
      "outputs": [],
      "source": [
        "# Creating a directed graph using NetworkX\n",
        "G = nx.from_pandas_edgelist(df1, source = 'source', target = 'target' , create_using=nx.DiGraph())\n"
      ]
    },
    {
      "cell_type": "code",
      "execution_count": 25,
      "id": "ce1f0223",
      "metadata": {
        "id": "ce1f0223"
      },
      "outputs": [],
      "source": [
        "# Get the nodes list from the graph\n",
        "nodes = list(G.nodes())"
      ]
    },
    {
      "cell_type": "code",
      "execution_count": 26,
      "id": "50b9d12e",
      "metadata": {
        "id": "50b9d12e"
      },
      "outputs": [],
      "source": [
        "# Creating an empty transition matrix\n",
        "transition_matrix = np.zeros((len(nodes), len(nodes)))"
      ]
    },
    {
      "cell_type": "code",
      "execution_count": 27,
      "id": "12932079",
      "metadata": {
        "id": "12932079"
      },
      "outputs": [],
      "source": [
        "# Calculate the unweighted transition matrix as we are told to ignore values given in dataset\n",
        "for edge in G.edges():\n",
        "    source = edge[0]\n",
        "    target = edge[1]\n",
        "    source_idx = nodes.index(source)\n",
        "    target_idx = nodes.index(target)\n",
        "    transition_matrix[source_idx][target_idx] = 1\n"
      ]
    },
    {
      "cell_type": "code",
      "execution_count": 32,
      "id": "e3bb4f1b",
      "metadata": {
        "id": "e3bb4f1b"
      },
      "outputs": [],
      "source": [
        "# Normalize the transition matrix \n",
        "transition_matrix = transition_matrix / np.sum(transition_matrix, axis=1, keepdims=True)\n"
      ]
    },
    {
      "cell_type": "code",
      "execution_count": 33,
      "id": "4fe31516",
      "metadata": {
        "colab": {
          "base_uri": "https://localhost:8080/"
        },
        "id": "4fe31516",
        "outputId": "8a305eeb-a870-486c-e6ca-c47545cfabb3"
      },
      "outputs": [
        {
          "output_type": "stream",
          "name": "stdout",
          "text": [
            "[[0.         0.2        0.         ... 0.         0.         0.        ]\n",
            " [0.125      0.         0.125      ... 0.         0.         0.        ]\n",
            " [0.         0.11111111 0.         ... 0.         0.         0.        ]\n",
            " ...\n",
            " [0.         0.         0.         ... 0.         0.         0.        ]\n",
            " [0.         0.         0.         ... 0.         0.         1.        ]\n",
            " [0.         0.         0.         ... 0.         1.         0.        ]]\n"
          ]
        }
      ],
      "source": [
        "print(transition_matrix)"
      ]
    },
    {
      "cell_type": "markdown",
      "source": [
        "(b) Calculate the PageRank for all nodes in the graph using the code \n",
        "from Task 1."
      ],
      "metadata": {
        "id": "_1Q8D3j48riH"
      },
      "id": "_1Q8D3j48riH"
    },
    {
      "cell_type": "code",
      "execution_count": 34,
      "id": "a3bfd8ca",
      "metadata": {
        "id": "a3bfd8ca"
      },
      "outputs": [],
      "source": [
        "# Calculate the PageRank using power iteration\n",
        "damping_factor = 0.85\n",
        "max_iterations = 100\n",
        "tolerance = 1e-6"
      ]
    },
    {
      "cell_type": "code",
      "execution_count": 35,
      "id": "5d3559bb",
      "metadata": {
        "id": "5d3559bb"
      },
      "outputs": [],
      "source": [
        "# Initialize the PageRank vector\n",
        "pagerank = np.ones(len(nodes)) / len(nodes)"
      ]
    },
    {
      "cell_type": "code",
      "execution_count": 36,
      "id": "504953ba",
      "metadata": {
        "id": "504953ba"
      },
      "outputs": [],
      "source": [
        "# Power iteration algorithm\n",
        "for i in range(max_iterations):\n",
        "    new_pagerank = (1 - damping_factor) / len(nodes) + damping_factor * transition_matrix.T.dot(pagerank)\n",
        "    if np.sum(np.abs(new_pagerank - pagerank)) < tolerance:\n",
        "        break\n",
        "    pagerank = new_pagerank"
      ]
    },
    {
      "cell_type": "code",
      "execution_count": 37,
      "id": "b094e7d7",
      "metadata": {
        "colab": {
          "base_uri": "https://localhost:8080/"
        },
        "id": "b094e7d7",
        "outputId": "44aabffd-03ae-428a-aa88-cbe203bf2f23"
      },
      "outputs": [
        {
          "output_type": "stream",
          "name": "stdout",
          "text": [
            "Node azure: 0.008564156109744194\n",
            "Node .net: 0.0114333028321687\n",
            "Node sql-server: 0.01303294317532656\n",
            "Node asp.net: 0.019049487489072005\n",
            "Node entity-framework: 0.01124394739699259\n",
            "Node wpf: 0.008725224609106939\n",
            "Node linq: 0.009980292956852148\n",
            "Node wcf: 0.01124394739699259\n",
            "Node c#: 0.022388838131462724\n",
            "Node tdd: 0.008695652173913044\n",
            "Node agile: 0.008695652173913044\n",
            "Node codeigniter: 0.009125614871472188\n",
            "Node ajax: 0.010257644175468688\n",
            "Node jquery: 0.022057748941829734\n",
            "Node mysql: 0.016357835121026315\n",
            "Node css: 0.019722858417345977\n",
            "Node php: 0.013932695505108495\n",
            "Node javascript: 0.01592347202944594\n",
            "Node json: 0.008070717963165136\n",
            "Node cloud: 0.0034980751965213103\n",
            "Node amazon-web-services: 0.010323416952886537\n",
            "Node devops: 0.00796444979436024\n",
            "Node docker: 0.010979763664343958\n",
            "Node ios: 0.012722776589089647\n",
            "Node android: 0.007755603203603871\n",
            "Node android-studio: 0.0035017717019047846\n",
            "Node java: 0.015739738676489784\n",
            "Node typescript: 0.0076641289775724675\n",
            "Node angular: 0.004561608422356289\n",
            "Node angular2: 0.005841008538785306\n",
            "Node angularjs: 0.01956731284400316\n",
            "Node ionic-framework: 0.002583747942515975\n",
            "Node reactjs: 0.01183996144516914\n",
            "Node mongodb: 0.013196036251425394\n",
            "Node sass: 0.012277530299943142\n",
            "Node twitter-bootstrap: 0.008422345996092283\n",
            "Node express: 0.00796118616878229\n",
            "Node node.js: 0.01064571998124511\n",
            "Node asp.net-web-api: 0.010264739777354138\n",
            "Node html5: 0.013904379825151969\n",
            "Node nginx: 0.007053845487647882\n",
            "Node apache: 0.006652770533144679\n",
            "Node linux: 0.024539005054903956\n",
            "Node scala: 0.012756030157661812\n",
            "Node apache-spark: 0.008554011082298064\n",
            "Node hadoop: 0.008554011082298064\n",
            "Node rest: 0.01048538410496914\n",
            "Node api: 0.0030868643555488078\n",
            "Node sql: 0.009440760883708852\n",
            "Node mvc: 0.002549889764356555\n",
            "Node vb.net: 0.005140098184061935\n",
            "Node bash: 0.00812672714704716\n",
            "Node shell: 0.005692742098499595\n",
            "Node git: 0.01090418467382783\n",
            "Node bootstrap: 0.00367362163742412\n",
            "Node c++: 0.010231746068715035\n",
            "Node c: 0.010231746068715035\n",
            "Node python: 0.017491648974352833\n",
            "Node embedded: 0.003478596871141635\n",
            "Node xamarin: 0.00266366867290675\n",
            "Node unity3d: 0.00266366867290675\n",
            "Node visual-studio: 0.00266366867290675\n",
            "Node qt: 0.003478596871141635\n",
            "Node laravel: 0.007510755477787031\n",
            "Node wordpress: 0.009596880197917192\n",
            "Node photoshop: 0.0025018053638317436\n",
            "Node html: 0.008409366231804886\n",
            "Node less: 0.004843218656247298\n",
            "Node jenkins: 0.010038447712322793\n",
            "Node django: 0.0075543216150443055\n",
            "Node flask: 0.005568730078013482\n",
            "Node postgresql: 0.012418388115503349\n",
            "Node go: 0.0036375497778083406\n",
            "Node drupal: 0.0026639041522942743\n",
            "Node maven: 0.010747983185097064\n",
            "Node eclipse: 0.0031315071840866786\n",
            "Node redis: 0.008370477629990672\n",
            "Node elasticsearch: 0.004485152207004987\n",
            "Node vba: 0.008695652173913044\n",
            "Node excel: 0.008695652173913044\n",
            "Node excel-vba: 0.008695652173913044\n",
            "Node redux: 0.006704351009119238\n",
            "Node github: 0.0036214901886104634\n",
            "Node haskell: 0.0049185563733942245\n",
            "Node jsp: 0.007625376890033594\n",
            "Node hibernate: 0.016367300892430423\n",
            "Node spring-boot: 0.005953027193018525\n",
            "Node web-services: 0.006178469686106922\n",
            "Node spring-mvc: 0.012822944832525737\n",
            "Node java-ee: 0.007625376890033594\n",
            "Node spring: 0.016367300892430423\n",
            "Node twitter-bootstrap-3: 0.0036580346063868913\n",
            "Node swift: 0.008518201677404632\n",
            "Node osx: 0.009409049834602291\n",
            "Node objective-c: 0.010536535037511384\n",
            "Node iphone: 0.008518201677404632\n",
            "Node xcode: 0.008518201677404632\n",
            "Node xml: 0.003019374702032839\n",
            "Node vue.js: 0.0029003818073046455\n",
            "Node unix: 0.0033901661800208737\n",
            "Node ubuntu: 0.0033901661800208737\n",
            "Node windows: 0.008559773360523689\n",
            "Node machine-learning: 0.006087166214998527\n",
            "Node r: 0.009384090516419832\n",
            "Node matlab: 0.003963177149152569\n",
            "Node react-native: 0.005279708216562733\n",
            "Node oracle: 0.005059606957305493\n",
            "Node plsql: 0.005059606957305493\n",
            "Node regex: 0.008695652173913044\n",
            "Node perl: 0.008695652173913044\n",
            "Node ruby-on-rails: 0.005328034227844123\n",
            "Node ruby: 0.005328034227844123\n",
            "Node powershell: 0.003729620301912403\n",
            "Node testing: 0.008695652173913044\n",
            "Node selenium: 0.008695652173913044\n"
          ]
        }
      ],
      "source": [
        "# Print the PageRank for all nodes\n",
        "for i, node in enumerate(nodes):\n",
        "    print(f\"Node {node}: {pagerank[i]}\")"
      ]
    },
    {
      "cell_type": "markdown",
      "source": [
        "# **3.Topic-sensitive PageRank:**"
      ],
      "metadata": {
        "id": "YJOBlpzo9tSS"
      },
      "id": "YJOBlpzo9tSS"
    },
    {
      "cell_type": "markdown",
      "source": [
        "(a) Implement a solution that calculates the topic-sensitive PageRank\n",
        "for a given node in the graph and apply it to the graph you created\n",
        "in Task 2."
      ],
      "metadata": {
        "id": "xoffb6KO980R"
      },
      "id": "xoffb6KO980R"
    },
    {
      "cell_type": "markdown",
      "source": [
        "To calculate the topic-sensitive PageRank for a given node in the graph, we need to modify the power iteration algorithm to incorporate the topic-specific taxation and here we create function calculate_tspr so we can check for different values."
      ],
      "metadata": {
        "id": "1zaUS5Au-wIc"
      },
      "id": "1zaUS5Au-wIc"
    },
    {
      "cell_type": "code",
      "source": [
        "def calculate_tspr(transition_matrix, nodes_df, links_df, topic_node, target_node, damping_factor=0.85, teleportation_prob=0.1,\n",
        "                   max_iterations=100, tolerance=1e-6):\n",
        "    # Creating a directed graph using NetworkX and finding transition matrix as we did before\n",
        "    G = nx.from_pandas_edgelist(df1, source='source', target='target', create_using=nx.DiGraph())\n",
        "    nodes = list(G.nodes())\n",
        "    transition_matrix = np.zeros((len(nodes), len(nodes)))\n",
        "    for edge in G.edges():\n",
        "        source = edge[0]\n",
        "        target = edge[1]\n",
        "        source_idx = nodes.index(source)\n",
        "        target_idx = nodes.index(target)\n",
        "        transition_matrix[source_idx][target_idx] = 1\n",
        "\n",
        "    transition_matrix = transition_matrix / np.sum(transition_matrix, axis=1, keepdims=True)\n",
        "\n",
        "    #Now Calculating the Topic-Sensitive PageRank using power iteration\n",
        "\n",
        "    # Initialize the PageRank vector\n",
        "    pagerank = np.ones(len(nodes)) / len(nodes)\n",
        "\n",
        "    # Power iteration algorithm\n",
        "    for _ in range(max_iterations):\n",
        "        new_pagerank = ((1 - damping_factor) / len(nodes)) * np.ones(len(nodes))\n",
        "\n",
        "        for i, node in enumerate(nodes):\n",
        "            if node == topic_node:\n",
        "                neighbors = list(G.successors(node))\n",
        "                num_neighbors = len(neighbors)\n",
        "                if num_neighbors > 0:\n",
        "                    topic_prob = teleportation_prob / num_neighbors\n",
        "                    for neighbor in neighbors:\n",
        "                        neighbor_idx = nodes.index(neighbor)\n",
        "                        new_pagerank[neighbor_idx] += damping_factor * topic_prob * pagerank[i]\n",
        "            else:\n",
        "                new_pagerank[i] += damping_factor * transition_matrix[:, i].dot(pagerank)\n",
        "\n",
        "        if np.sum(np.abs(new_pagerank - pagerank)) < tolerance:\n",
        "            break\n",
        "\n",
        "        pagerank = new_pagerank\n",
        "\n",
        "    # Finding the TSPR value for the target node in the topic node\n",
        "    target_node_idx = nodes.index(target_node)\n",
        "    tspr_value = pagerank[target_node_idx]\n",
        "\n",
        "    return tspr_value\n"
      ],
      "metadata": {
        "id": "OqCqPpxn93dT"
      },
      "id": "OqCqPpxn93dT",
      "execution_count": 38,
      "outputs": []
    },
    {
      "cell_type": "markdown",
      "source": [
        "(b) Output the topic-sensitive PageRank (TSPR) for each of the following nodes:\n",
        "\n",
        "    TSPR('css', 'angularjs'),\n",
        "    TSPR('angularjs', 'css'),\n",
        "    TSPR('jquery', 'bootstrap'),\n",
        "    TSPR('bash', 'linux')\n"
      ],
      "metadata": {
        "id": "9jauc2zYS_Tu"
      },
      "id": "9jauc2zYS_Tu"
    },
    {
      "cell_type": "code",
      "source": [
        "# Specify the topic and target nodes as a list of tuples\n",
        "topic_target_nodes = [\n",
        "    ('css', 'angular'),\n",
        "    ('angularjs', 'css'),\n",
        "    ('jquery', 'bootstrap'),\n",
        "    ('bash', 'linux')]\n",
        "\n",
        "# Calculate TSPR values for each target and topic combination\n",
        "for topic_node, target_node in topic_target_nodes:\n",
        "    tspr_value = calculate_tspr(transition_matrix,df1, df2, topic_node, target_node)\n",
        "    print(f\"TSPR value for '{target_node}' in the topic '{topic_node}': {tspr_value}\")"
      ],
      "metadata": {
        "colab": {
          "base_uri": "https://localhost:8080/"
        },
        "id": "yU8oz4ZwCUIA",
        "outputId": "c45ac87d-c244-4071-c8ad-f3f24647bb87"
      },
      "id": "yU8oz4ZwCUIA",
      "execution_count": 40,
      "outputs": [
        {
          "output_type": "stream",
          "name": "stdout",
          "text": [
            "TSPR value for 'angular' in the topic 'css': 0.004461917250598985\n",
            "TSPR value for 'css' in the topic 'angularjs': 0.015425842835263616\n",
            "TSPR value for 'bootstrap' in the topic 'jquery': 0.0022157341601519573\n",
            "TSPR value for 'linux' in the topic 'bash': 0.019402415140041356\n"
          ]
        }
      ]
    },
    {
      "cell_type": "markdown",
      "source": [
        "(c) For each of the topics above (css, angularjs, jquery, bash): output\n",
        "the top 5 nodes and their respective TS-PR value.\n"
      ],
      "metadata": {
        "id": "3jfWYC1zSsUK"
      },
      "id": "3jfWYC1zSsUK"
    },
    {
      "cell_type": "code",
      "source": [
        "# Calculate TS-PR values for each topic\n",
        "topics = ['css', 'angularjs', 'jquery', 'bash']\n",
        "for topic in topics:\n",
        "    topic_node = topic.lower()\n",
        "\n",
        "    # Calculate TS-PR values\n",
        "    tspr_values = calculate_tspr(transition_matrix, df1,df2,target_node,topic_node,nodes.index(topic_node))\n",
        "\n",
        "   \n",
        "    \n",
        "  # Convert tspr_values to a list if it is a single value\n",
        "    if isinstance(tspr_values, float):\n",
        "        tspr_values_list = [tspr_values]\n",
        "    else:\n",
        "        tspr_values_list = tspr_values.tolist()\n",
        "\n",
        "    # Get the top 5 nodes and their TS-PR values\n",
        "    top_nodes = sorted(range(len(tspr_values_list)), key=lambda i: tspr_values_list[i], reverse=True)[:5]\n",
        "\n",
        "    # Print the results\n",
        "    print(f\"Top 5 nodes and their TSPR values for the topic '{topic}':\")\n",
        "    for node_idx in top_nodes:\n",
        "        node = nodes[node_idx]\n",
        "        tspr_value = tspr_values_list[node_idx]\n",
        "        print(f\"Node: {node}, TSPR value: {tspr_value}\")\n",
        "    print()"
      ],
      "metadata": {
        "colab": {
          "base_uri": "https://localhost:8080/"
        },
        "id": "NIIrkQe5Ss4F",
        "outputId": "47180fc7-b08a-4771-d60c-aaab1f66ea50"
      },
      "id": "NIIrkQe5Ss4F",
      "execution_count": 44,
      "outputs": [
        {
          "output_type": "stream",
          "name": "stdout",
          "text": [
            "Top 5 nodes and their TSPR values for the topic 'css':\n",
            "Node: azure, TSPR value: -3.100200044683475e+113\n",
            "\n",
            "Top 5 nodes and their TSPR values for the topic 'angularjs':\n",
            "Node: azure, TSPR value: -3.5038868694191703e+143\n",
            "\n",
            "Top 5 nodes and their TSPR values for the topic 'jquery':\n",
            "Node: azure, TSPR value: -2.199839349733303e+107\n",
            "\n",
            "Top 5 nodes and their TSPR values for the topic 'bash':\n",
            "Node: azure, TSPR value: -1.2086776596155856e+165\n",
            "\n"
          ]
        }
      ]
    }
  ],
  "metadata": {
    "kernelspec": {
      "display_name": "Python 3 (ipykernel)",
      "language": "python",
      "name": "python3"
    },
    "language_info": {
      "codemirror_mode": {
        "name": "ipython",
        "version": 3
      },
      "file_extension": ".py",
      "mimetype": "text/x-python",
      "name": "python",
      "nbconvert_exporter": "python",
      "pygments_lexer": "ipython3",
      "version": "3.10.9"
    },
    "colab": {
      "provenance": []
    }
  },
  "nbformat": 4,
  "nbformat_minor": 5
}