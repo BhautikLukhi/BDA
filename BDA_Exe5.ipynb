{
  "nbformat": 4,
  "nbformat_minor": 0,
  "metadata": {
    "colab": {
      "provenance": [],
      "collapsed_sections": [
        "qTd27ekylo1_"
      ]
    },
    "kernelspec": {
      "name": "python3",
      "display_name": "Python 3"
    },
    "language_info": {
      "name": "python"
    }
  },
  "cells": [
    {
      "cell_type": "markdown",
      "source": [
        "# **1. Song Recommendations :**"
      ],
      "metadata": {
        "id": "qTd27ekylo1_"
      }
    },
    {
      "cell_type": "markdown",
      "source": [
        "• How similar are the music tastes of users user-1 and user-2?\n",
        "\n",
        "• How similar are the music tastes of users user-1 and user-3?\n"
      ],
      "metadata": {
        "id": "O7AhkeHr0sJV"
      }
    },
    {
      "cell_type": "code",
      "source": [
        "import numpy as np\n",
        "import pandas as pd\n",
        "from scipy.stats import pearsonr\n",
        "from sklearn.metrics.pairwise import cosine_similarity\n"
      ],
      "metadata": {
        "id": "Yp17QHJDlvw-"
      },
      "execution_count": 1,
      "outputs": []
    },
    {
      "cell_type": "code",
      "source": [
        "num_users = 5\n",
        "num_items = 8\n",
        "\n",
        "utility = pd.DataFrame(np.nan, \n",
        "index=[f\"user-{i}\" for i in range(1, num_users+1)], \n",
        "columns=[f\"song-{j}\" for j in range(1, num_items+1)])\n",
        "\n",
        "artists = {\n",
        "\t\"artist-1\": [\"song-1\", \"song-2\", \"song-3\"],\n",
        "\t\"artist-2\": [\"song-4\"],\n",
        "\t\"artist-3\": [\"song-5\", \"song-6\"],\n",
        "\t\"artist-4\": [\"song-7\", \"song-8\"]\n",
        "}\n",
        "\n",
        "user_likes = \"\"\"\n",
        "user-1 song-1 5\n",
        "user-1 song-4 4\n",
        "user-1 song-5 1\n",
        "user-1 song-6 1\n",
        "\n",
        "user-2 song-2 1\n",
        "user-2 song-6 5\n",
        "user-2 song-7 4\n",
        "user-2 song-8 2\n",
        "\n",
        "user-3 song-3 2\n",
        "user-3 song-4 5\n",
        "user-3 song-6 2\n",
        "\n",
        "user-4 song-1 2\n",
        "user-4 song-5 5\n",
        "user-4 song-2 2\n",
        "\n",
        "user-5 song-7 1\n",
        "user-5 song-2 5\n",
        "user-5 song-3 3\n",
        "user-5 song-4 5\n",
        "\"\"\"\n",
        "for user_id, song, rating in [line.split(\" \") for line in filter(lambda line: line.strip() != \"\",user_likes.strip().split(\"\\n\"))]:\n",
        " rating = float(rating)\n",
        " utility.at[user_id, song] = rating\n",
        "\n",
        "utility_original = utility.copy()\n"
      ],
      "metadata": {
        "id": "5f6auKfNnsaj"
      },
      "execution_count": 2,
      "outputs": []
    },
    {
      "cell_type": "markdown",
      "source": [
        "To measure the similarity between the music tastes of any users, we can use various similarity metrics, such as the cosine similarity or the Pearson correlation coefficient.\n",
        "\n",
        "Cosine similarity is a measure of the similarity between two vectors. In this case, the vectors represent the ratings given by user 1 and user 2 to different songs. The cosine similarity ranges from -1 to 1, where a value of 1 indicates that the vectors are identical, 0 indicates no similarity, and -1 indicates complete dissimilarity.\n",
        "\n"
      ],
      "metadata": {
        "id": "NlmkAU7wrvFX"
      }
    },
    {
      "cell_type": "code",
      "source": [
        "# Fill NaN values with zeros\n",
        "utility_filled = utility.fillna(0)\n",
        "\n",
        "\n",
        "# Extract the rows corresponding to every user.\n",
        "user_1 = utility_filled.loc[\"user-1\"].values.reshape(1, -1)\n",
        "user_2 = utility_filled.loc[\"user-2\"].values.reshape(1, -1)\n",
        "user_3 = utility_filled.loc[\"user-3\"].values.reshape(1, -1)\n",
        "user_4 = utility_filled.loc[\"user-4\"].values.reshape(1, -1)\n",
        "user_5 = utility_filled.loc[\"user-5\"].values.reshape(1, -1)\n",
        "\n",
        "\n",
        "# Calculate the cosine similarity between user 1 and user 2\n",
        "similarity12 = cosine_similarity(user_1, user_2)\n",
        "\n",
        "# Calculate the cosine similarity between user 1 and user 3\n",
        "similarity13 = cosine_similarity(user_1, user_3)\n",
        "\n",
        "print(f\"The cosine similarity between user 1 and user 2 is: {similarity12[0,0]}\")\n",
        "print(f\"The cosine similarity between user 1 and user 3 is: {similarity13[0,0]}\")"
      ],
      "metadata": {
        "colab": {
          "base_uri": "https://localhost:8080/"
        },
        "id": "PfOdxFoooTom",
        "outputId": "42dd7db0-9d1a-4606-8aae-8953316776ba"
      },
      "execution_count": 31,
      "outputs": [
        {
          "output_type": "stream",
          "name": "stdout",
          "text": [
            "The cosine similarity between user 1 and user 2 is: 0.11242343760332196\n",
            "The cosine similarity between user 1 and user 3 is: 0.5840250605220888\n"
          ]
        }
      ]
    },
    {
      "cell_type": "markdown",
      "source": [
        "\n",
        "\n",
        "A cosine similarity value of 0.11242343760332196 suggests a relatively low similarity between the music tastes of user 1 and user 2. It means that the two users have somewhat different preferences when it comes to the songs they rated. The closer the cosine similarity value is to 1, the more similar their music tastes are, while a value closer to 0 indicates a lower similarity. \n",
        "\n",
        "In the case of user 1 and 3 the value of 0.5840250605220888 for cosine similarity suggests a moderate level of similarity between the music tastes of user-1 and user-3.\n",
        "\n",
        "\n",
        "\n",
        "\n",
        "\n",
        "\n"
      ],
      "metadata": {
        "id": "KPZDlmZosRpF"
      }
    },
    {
      "cell_type": "markdown",
      "source": [
        "• Will user user-5 like the song song-6?\n",
        "\n",
        "• Will user user-5 like the song song-1?"
      ],
      "metadata": {
        "id": "rhYE-gUW09uO"
      }
    },
    {
      "cell_type": "markdown",
      "source": [
        "We can solve this by Collaborative Filtering:\n",
        "\n",
        "This techniques analyze the patterns of ratings from multiple users to make recommendations. In the context of collaborative filtering for rating predictions, the goal is to predict how a user would rate an item (e.g., a song) based on the ratings given by other users who have similar preferences. By finding users who have similar rating patterns to user-5 for other songs, we can predict user-5's preference for \"song-6\" and \"song-1\""
      ],
      "metadata": {
        "id": "2Bewetyr1BT3"
      }
    },
    {
      "cell_type": "code",
      "source": [
        "# Get the ratings of user-5\n",
        "user5_ratings = utility_filled.loc['user-5'].values.reshape(1, -1)\n",
        "\n",
        "# Calculate cosine similarity between user-5 and other users\n",
        "similarities = cosine_similarity(user5_ratings, utility_filled.values)\n",
        "\n",
        "# Find the most similar user to user-5\n",
        "most_similar_user_idx = np.argmax(similarities)\n",
        "\n",
        "# Choose a threshold \n",
        "threshold = 0.7  #Here we set threshold 0.7 so it will consider similar user with similarity above 0.7 so we get accurate result\n",
        "similar_users_indices = np.where(similarities > threshold)[1]\n",
        "\n",
        "# Get the ratings of similar users for \"song-6\"\n",
        "song6_ratings = utility_filled.iloc[similar_users_indices]['song-6']\n",
        "\n",
        "# Predict user-5's liking for \"song-6\" (average rating of similar users)\n",
        "predicted_rating56 = np.mean(song6_ratings)\n",
        "\n",
        "print(f\"The predicted rating of 'song-6' for user-5 is: {predicted_rating56}\")\n",
        "\n",
        "# Get the ratings of similar users for \"song-1\"\n",
        "song1_ratings = utility_filled.iloc[similar_users_indices]['song-1']\n",
        "\n",
        "# Predict user-5's liking for \"song-1\" (average rating of similar users)\n",
        "predicted_rating51 = np.mean(song6_ratings)\n",
        "\n",
        "print(f\"The predicted rating of 'song-1' for user-5 is: {predicted_rating51}\")"
      ],
      "metadata": {
        "colab": {
          "base_uri": "https://localhost:8080/"
        },
        "id": "3kSPdXzc1Ogx",
        "outputId": "394ed0a3-1a57-4cb0-c2ce-b1fb89590c04"
      },
      "execution_count": 34,
      "outputs": [
        {
          "output_type": "stream",
          "name": "stdout",
          "text": [
            "The predicted rating of 'song-6' for user-5 is: 0.0\n",
            "The predicted rating of 'song-1' for user-5 is: 0.0\n"
          ]
        }
      ]
    },
    {
      "cell_type": "markdown",
      "source": [
        "The code returns the ratings of 0.0, that is not good rating on a scale of 5.\n",
        "\n",
        "\n",
        "\n",
        "**So we say that user-5 will not like the song-6 and song-1**"
      ],
      "metadata": {
        "id": "2Bew48nb4cOJ"
      }
    },
    {
      "cell_type": "markdown",
      "source": [
        "# **2. UV Decomposition:**"
      ],
      "metadata": {
        "id": "cLpOgpd1-lmY"
      }
    },
    {
      "cell_type": "markdown",
      "source": [
        "We use the give code, this code generates a randomly populated utility matrix with ratings for songs given by users. The ratings are generated based on a biased distribution, simulating the skewed nature of human ratings."
      ],
      "metadata": {
        "id": "_VnX9Qnx--ly"
      }
    },
    {
      "cell_type": "markdown",
      "source": [
        "(a) Perform incremental UV decomposition on the utility matrix given\n",
        "below. Pick a dimensionality d that seems sensible to you."
      ],
      "metadata": {
        "id": "Ze9geX5VCbyx"
      }
    },
    {
      "cell_type": "code",
      "source": [
        "import random\n",
        "\n",
        "num_users = 100\n",
        "num_items = 300\n",
        "\n",
        "# generate ratings for at least 15% of all songs but no more than 75%\n",
        "minmax_ratings = [int(num_items * 0.15), int(num_items * 0.75)]\n",
        "rating_range = [1, 5]\n",
        "\n",
        "# generate utility table\n",
        "users = [f\"user-{i}\" for i in range(1, num_users + 1)]\n",
        "songs = [f\"song-{j}\" for j in range(1, num_items + 1)]\n",
        "utility = pd.DataFrame(np.nan, index=users, columns=songs)\n",
        "\n",
        "possible_ratings = [r for r in range(rating_range[0], rating_range[1] + 1)]\n",
        "num_possible_ratings = len(possible_ratings)\n",
        "\n",
        "# human ratings are often skewed to the extreme choices (e.g. 1 star/5 star reviews)\n",
        "# let's reflect this by generating rankings that have a similar artificial bias\n",
        "rating_distribution = [np.max([0.1, np.abs(((i + 0.5) - (num_possible_ratings / 2)) / num_possible_ratings)])\n",
        "                       for i in range(num_possible_ratings)]\n",
        "rating_distribution = rating_distribution / np.max(rating_distribution)\n",
        "rating_distribution = rating_distribution / np.sum(rating_distribution)\n",
        "print(\"possible ratings:\", possible_ratings)\n",
        "print(\"distribution:\", rating_distribution, np.sum(rating_distribution))\n",
        "\n",
        "\n",
        "def generate_rating():\n",
        "  # unbiased version\n",
        "  # return np.random.randint(rating_range[0], rating_range[1]+1)\n",
        "  return np.random.choice(possible_ratings, 1, p=rating_distribution)\n",
        "\n",
        "# generate random ratings\n",
        "for user in users:\n",
        "    num_ratings = np.random.randint(minmax_ratings[0], minmax_ratings[1] + 1)\n",
        "    rated_songs = random.sample(songs, num_ratings)\n",
        "    ratings = [generate_rating() for _ in range(len(rated_songs))]\n",
        "    #print(user_id, rating, rated_songs, ratings)\n",
        "    for song, rating in zip(rated_songs, ratings):\n",
        "        utility.at[user, song] = rating\n",
        "\n",
        "# the following can be used to check the rating distribution:\n",
        "allratings = np.array(utility.to_numpy().tolist())\n",
        "allratings = allratings[~np.isnan(allratings)]\n",
        "for rating, freq in zip(*np.unique(allratings, return_counts=True)):\n",
        "    print(\"rating:\", rating, \"freq:\", freq)\n"
      ],
      "metadata": {
        "colab": {
          "base_uri": "https://localhost:8080/"
        },
        "id": "vXxlC7KR-mK_",
        "outputId": "85e3c772-f299-4808-c5ac-61dc432768da"
      },
      "execution_count": 38,
      "outputs": [
        {
          "output_type": "stream",
          "name": "stdout",
          "text": [
            "possible ratings: [1, 2, 3, 4, 5]\n",
            "distribution: [0.30769231 0.15384615 0.07692308 0.15384615 0.30769231] 1.0\n",
            "rating: 1.0 freq: 4557\n",
            "rating: 2.0 freq: 2199\n",
            "rating: 3.0 freq: 1179\n",
            "rating: 4.0 freq: 2156\n",
            "rating: 5.0 freq: 4606\n"
          ]
        }
      ]
    },
    {
      "cell_type": "markdown",
      "source": [
        "Now performing the incremental UV decomposition here we choose d = 10"
      ],
      "metadata": {
        "id": "YRlPUVsQAQ4N"
      }
    },
    {
      "cell_type": "code",
      "source": [
        "from scipy.sparse import csc_matrix\n",
        "from sklearn.decomposition import TruncatedSVD\n",
        "from sklearn.impute import SimpleImputer\n",
        "\n",
        "# Convert the utility matrix to a sparse matrix\n",
        "utility_sparse = csc_matrix(utility)\n",
        "\n",
        "# Set the dimensionality value\n",
        "d = 10\n",
        "\n",
        "# Impute missing values with mean (you can change the strategy if desired)\n",
        "imputer = SimpleImputer(strategy='mean')\n",
        "utility_imputed = imputer.fit_transform(utility_sparse)\n",
        "\n",
        "# Perform incremental UV decomposition on the imputed data\n",
        "svd = TruncatedSVD(n_components=d)\n",
        "U = svd.fit_transform(utility_imputed)\n",
        "V = svd.components_\n",
        "\n",
        "# Reconstruct the utility matrix\n",
        "utility_reconstructed = U @ V\n",
        "\n",
        "# Print the reconstructed utility matrix\n",
        "print(\"Reconstructed Utility Matrix:\")\n",
        "print(utility_reconstructed)\n"
      ],
      "metadata": {
        "colab": {
          "base_uri": "https://localhost:8080/"
        },
        "id": "PdXqkMBEARYG",
        "outputId": "073065aa-8adc-43e0-f308-e9615f8d0a4d"
      },
      "execution_count": 42,
      "outputs": [
        {
          "output_type": "stream",
          "name": "stdout",
          "text": [
            "Reconstructed Utility Matrix:\n",
            "[[3.27425497 3.36731067 3.1219536  ... 2.85110653 2.67805618 2.97143675]\n",
            " [3.58218625 4.39527472 2.93143772 ... 2.50414659 2.84628897 2.59062136]\n",
            " [3.32464536 3.63915952 2.71935225 ... 2.69980913 2.81073422 2.9393952 ]\n",
            " ...\n",
            " [3.75823776 4.58160833 2.33997724 ... 1.54491036 3.35896879 2.61318204]\n",
            " [3.31957454 2.87600835 3.43770864 ... 2.54377583 3.83938066 2.59839026]\n",
            " [3.69463745 2.00883    3.09796804 ... 2.31242642 2.14216664 2.37867252]]\n"
          ]
        }
      ]
    },
    {
      "cell_type": "markdown",
      "source": [
        "(b) Explain briefly how the results help you with making recommendations to your users."
      ],
      "metadata": {
        "id": "yuQhp_teCSEQ"
      }
    },
    {
      "cell_type": "markdown",
      "source": [
        "The results provide insights into user preferences and item recommendations and help make recommendations in below stated ways.\n",
        "\n",
        "\n",
        "1. User Preferences: The UV decomposition analyzes the utility matrix to uncover underlying patterns and latent factors that contribute to user preferences. It decomposes the matrix into user and item latent feature matrices, which represent user preferences and item characteristics, respectively. These latent factors capture the underlying structure of the data and help in understanding user preferences in a more meaningful way.\n",
        "\n",
        "2. Dimensionality Reduction: The choice of dimensionality, denoted by 'd', determines the number of latent factors retained in the decomposition. By reducing the dimensionality, irrelevant or noisy information is discarded, leading to a more compact representation of user preferences and item characteristics. The ideal value of 'd' depends on the specific dataset and can be determined through experimentation or evaluation metrics.\n",
        "\n",
        "3. Recommendations: The decomposed user and item matrices can be used to generate recommendations. For a given user, the algorithm identifies the latent features associated with the user's preferences and finds items that have similar latent feature representations. These similar items can then be recommended to the user, as they are likely to align with their interests based on the underlying patterns discovered through UV decomposition.\n",
        "\n",
        "4. Incremental Updates: this technique allows for efficient updates to the user and item matrices when new data becomes available. This enables real-time or dynamic recommendations by incorporating new user ratings or item information without having to recompute the entire decomposition. The incremental approach ensures that the recommendations stay up to date and reflect the latest user preferences.\n",
        "\n",
        "Overall, the results of incremental UV decomposition provide valuable information about user preferences, help in dimensionality reduction, and enable personalized recommendations based on the discovered latent factors."
      ],
      "metadata": {
        "id": "zIydSCVKCMpL"
      }
    }
  ]
}